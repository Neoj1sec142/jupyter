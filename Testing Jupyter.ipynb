{
 "cells": [
  {
   "cell_type": "markdown",
   "id": "2967f901",
   "metadata": {},
   "source": [
    "# Sample Headline\n",
    "\n",
    "*Note: This text will be italicized.*\n",
    "\n",
    "## Another header (H2)\n",
    "\n",
    "This is a normal paragraph that will sit with some dummy text. For now we will browse the sky... sunny and hot as hell lol. Great paragraph...\n",
    "\n",
    "Basic formatiing of *italics* and **bold** is supported. This *can be **nested** like* so.\n",
    "\n",
    "### What this book shows:\n",
    "\n",
    "1. How to get started with notebooks.\n",
    "2. How to execute code.\n",
    "3. How to add markdown.\n",
    "4. And.. other stuff"
   ]
  },
  {
   "cell_type": "code",
   "execution_count": null,
   "id": "2db8c09a",
   "metadata": {},
   "outputs": [],
   "source": []
  },
  {
   "cell_type": "code",
   "execution_count": null,
   "id": "3088e4f4",
   "metadata": {},
   "outputs": [],
   "source": [
    "name = \"John\""
   ]
  },
  {
   "cell_type": "markdown",
   "id": "cebe0c95",
   "metadata": {},
   "source": [
    "# Magics Log:\n",
    "\n",
    "\n",
    "### Basically How to use anything other than py:\n",
    "***   \n",
    "*Note: You can access the magics with %lsmagic*\n",
    "#### Available line magics:\n",
    "**%alias  %alias_magic  %autoawait  %autocall  %automagic\n",
    "%autosave  %bookmark  %cat  %cd  %clear  %colors  %conda  %config  %connect_info  %cp  %debug  %dhist  %dirs  %doctest_mode  %ed  %edit  %env  %gui  %hist  %history  %killbgscripts  %ldir  %less  %lf  %lk  %ll  %load  %load_ext  %loadpy  %logoff  %logon  %logstart  %logstate  %logstop  %ls  %lsmagic  %lx  %macro  %magic  %man  %matplotlib  %mkdir  %more  %mv  %notebook  %page  %pastebin  %pdb  %pdef  %pdoc  %pfile  %pinfo  %pinfo2  %pip  %popd  %pprint  %precision  %prun  %psearch  %psource  %pushd  %pwd  %pycat  %pylab  %qtconsole  %quickref  %recall  %rehashx  %reload_ext  %rep  %rerun  %reset  %reset_selective  %rm  %rmdir  %run  %save  %sc  %set_env  %store  %sx  %system  %tb  %time  %timeit  %unalias  %unload_ext  %who  %who_ls  %whos  %xdel  %xmode**\n",
    "\n",
    "### Available cell magics:\n",
    "**%%!  %%HTML  %%SVG  %%bash  %%capture  %%debug  %%file  %%html  %%javascript  %%js  %%latex  %%markdown  %%perl  %%prun  %%pypy  %%python  %%python2  %%python3  %%ruby  %%script  %%sh  %%svg  %%sx  %%system  %%time  %%timeit  %%writefile**\n",
    "\n",
    "- to use bash: !\n",
    "- to use js: %%javascript\n",
    "- to use markdown: %%markdown"
   ]
  },
  {
   "cell_type": "code",
   "execution_count": null,
   "id": "efd8222b",
   "metadata": {},
   "outputs": [],
   "source": [
    "%lsmagic"
   ]
  },
  {
   "cell_type": "code",
   "execution_count": null,
   "id": "581b6218",
   "metadata": {},
   "outputs": [],
   "source": [
    "%%javascript\n",
    "const list = ['one', 'two', 'three', 'four', 'five', 'six']\n",
    "for(let i=0; i<5; i++){\n",
    "    alert(list[i])\n",
    "}"
   ]
  },
  {
   "cell_type": "code",
   "execution_count": null,
   "id": "813f02d5",
   "metadata": {},
   "outputs": [],
   "source": [
    "%ls -la"
   ]
  },
  {
   "cell_type": "code",
   "execution_count": 1,
   "id": "a686ed25",
   "metadata": {},
   "outputs": [],
   "source": [
    "%matplotlib inline"
   ]
  },
  {
   "cell_type": "code",
   "execution_count": 2,
   "id": "a6eae11b",
   "metadata": {},
   "outputs": [
    {
     "data": {
      "image/png": "[encoded data removed]",
      "text/plain": [
       "<Figure size 432x288 with 1 Axes>"
      ]
     },
     "metadata": {
      "needs_background": "light"
     },
     "output_type": "display_data"
    }
   ],
   "source": [
    "import numpy as np\n",
    "import matplotlib.pyplot as plt\n",
    "\n",
    "N = 50\n",
    "x = np.random.rand(N)\n",
    "y = np.random.rand(N)\n",
    "colors = np.random.rand(N)\n",
    "area = np.pi * (15 * np.random.rand(N))**2 # 0 to 15 point radiuses\n",
    "\n",
    "plt.scatter(x, y, s=area, c=colors, alpha=0.5)\n",
    "plt.show()\n"
   ]
  },
  {
   "cell_type": "code",
   "execution_count": 4,
   "id": "72c1a5e3",
   "metadata": {},
   "outputs": [
    {
     "data": {
      "text/html": [
       "<iframe width=\"560\" height=\"315\" src=\"https://www.youtube.com/embed/HW29067qVWk\" title=\"YouTube video player\" frameborder=\"0\" allow=\"accelerometer; autoplay; clipboard-write; encrypted-media; gyroscope; picture-in-picture\" allowfullscreen></iframe>\n"
      ],
      "text/plain": [
       "<IPython.core.display.HTML object>"
      ]
     },
     "metadata": {},
     "output_type": "display_data"
    }
   ],
   "source": [
    "%%HTML\n",
    "<iframe width=\"560\" height=\"315\" src=\"https://www.youtube.com/embed/HW29067qVWk\" title=\"YouTube video player\" frameborder=\"0\" allow=\"accelerometer; autoplay; clipboard-write; encrypted-media; gyroscope; picture-in-picture\" allowfullscreen></iframe>"
   ]
  },
  {
   "cell_type": "code",
   "execution_count": 5,
   "id": "90932fdc",
   "metadata": {},
   "outputs": [
    {
     "name": "stdout",
     "output_type": "stream",
     "text": [
      "51.6 µs ± 304 ns per loop (mean ± std. dev. of 7 runs, 10,000 loops each)\n"
     ]
    }
   ],
   "source": [
    "%%timeit\n",
    "    square_evens = [n*n for n in range(1000)]"
   ]
  },
  {
   "cell_type": "code",
   "execution_count": 9,
   "id": "3d52d0a3",
   "metadata": {},
   "outputs": [
    {
     "data": {
      "text/html": [
       "<div>\n",
       "<style scoped>\n",
       "    .dataframe tbody tr th:only-of-type {\n",
       "        vertical-align: middle;\n",
       "    }\n",
       "\n",
       "    .dataframe tbody tr th {\n",
       "        vertical-align: top;\n",
       "    }\n",
       "\n",
       "    .dataframe thead th {\n",
       "        text-align: right;\n",
       "    }\n",
       "</style>\n",
       "<table border=\"1\" class=\"dataframe\">\n",
       "  <thead>\n",
       "    <tr style=\"text-align: right;\">\n",
       "      <th></th>\n",
       "      <th>0</th>\n",
       "      <th>1</th>\n",
       "      <th>2</th>\n",
       "      <th>3</th>\n",
       "      <th>4</th>\n",
       "    </tr>\n",
       "  </thead>\n",
       "  <tbody>\n",
       "    <tr>\n",
       "      <th>0</th>\n",
       "      <td>0.485845</td>\n",
       "      <td>-1.356617</td>\n",
       "      <td>0.958459</td>\n",
       "      <td>3.076136</td>\n",
       "      <td>0.218932</td>\n",
       "    </tr>\n",
       "    <tr>\n",
       "      <th>1</th>\n",
       "      <td>-0.373663</td>\n",
       "      <td>-0.599044</td>\n",
       "      <td>0.627768</td>\n",
       "      <td>0.138207</td>\n",
       "      <td>-0.264886</td>\n",
       "    </tr>\n",
       "    <tr>\n",
       "      <th>2</th>\n",
       "      <td>0.683222</td>\n",
       "      <td>1.044999</td>\n",
       "      <td>0.372890</td>\n",
       "      <td>-1.095627</td>\n",
       "      <td>0.602516</td>\n",
       "    </tr>\n",
       "    <tr>\n",
       "      <th>3</th>\n",
       "      <td>1.083051</td>\n",
       "      <td>0.480575</td>\n",
       "      <td>-0.573739</td>\n",
       "      <td>1.267051</td>\n",
       "      <td>0.795627</td>\n",
       "    </tr>\n",
       "    <tr>\n",
       "      <th>4</th>\n",
       "      <td>1.433395</td>\n",
       "      <td>-0.829014</td>\n",
       "      <td>1.334878</td>\n",
       "      <td>-0.274758</td>\n",
       "      <td>1.094295</td>\n",
       "    </tr>\n",
       "  </tbody>\n",
       "</table>\n",
       "</div>"
      ],
      "text/plain": [
       "          0         1         2         3         4\n",
       "0  0.485845 -1.356617  0.958459  3.076136  0.218932\n",
       "1 -0.373663 -0.599044  0.627768  0.138207 -0.264886\n",
       "2  0.683222  1.044999  0.372890 -1.095627  0.602516\n",
       "3  1.083051  0.480575 -0.573739  1.267051  0.795627\n",
       "4  1.433395 -0.829014  1.334878 -0.274758  1.094295"
      ]
     },
     "execution_count": 9,
     "metadata": {},
     "output_type": "execute_result"
    }
   ],
   "source": [
    "import pandas as pd \n",
    "import numpy as np\n",
    "\n",
    "df = pd.DataFrame(np.random.randn(10,5))\n",
    "df.head()"
   ]
  },
  {
   "cell_type": "code",
   "execution_count": 1,
   "id": "755730f5",
   "metadata": {},
   "outputs": [
    {
     "name": "stdout",
     "output_type": "stream",
     "text": [
      "Target found: True\n",
      "Target found: False\n"
     ]
    }
   ],
   "source": [
    "def recursive_binary_search(list, target):\n",
    "    if len(list) == 0:\n",
    "        return False\n",
    "    else:\n",
    "        mid = len(list)//2\n",
    "        if list[mid] == target:\n",
    "            return True\n",
    "        else:\n",
    "            if list[mid] < target:\n",
    "                return recursive_binary_search(list[mid+1:], target)\n",
    "            else:\n",
    "                return recursive_binary_search(list[:mid], target)\n",
    "def verify(result):\n",
    "    print(f'Target found: {result}')\n",
    "\n",
    "nums = range(0,1000)\n",
    "res1 = recursive_binary_search(nums, 127)\n",
    "verify(res1)\n",
    "\n",
    "res2 = recursive_binary_search(nums, 10011)\n",
    "verify(res2)"
   ]
  },
  {
   "cell_type": "code",
   "execution_count": null,
   "id": "3eb8419e",
   "metadata": {},
   "outputs": [],
   "source": []
  }
 ],
 "metadata": {
  "kernelspec": {
   "display_name": "Python 3 (ipykernel)",
   "language": "python",
   "name": "python3"
  },
  "language_info": {
   "codemirror_mode": {
    "name": "ipython",
    "version": 3
   },
   "file_extension": ".py",
   "mimetype": "text/x-python",
   "name": "python",
   "nbconvert_exporter": "python",
   "pygments_lexer": "ipython3",
   "version": "3.9.12"
  }
 },
 "nbformat": 4,
 "nbformat_minor": 5
}
